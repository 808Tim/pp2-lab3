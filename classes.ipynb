{
 "cells": [
  {
   "cell_type": "markdown",
   "metadata": {},
   "source": [
    "Classes: Task 1"
   ]
  },
  {
   "cell_type": "code",
   "execution_count": 1,
   "metadata": {},
   "outputs": [
    {
     "name": "stdout",
     "output_type": "stream",
     "text": [
      "AFDSFAS\n"
     ]
    }
   ],
   "source": [
    "class Strings:\n",
    "    def __init__(self):\n",
    "        self.str = \"\"\n",
    "    \n",
    "    def getString(self):\n",
    "        self.str = input()\n",
    "\n",
    "    def printString(self):\n",
    "        print(self.str.upper())\n",
    "    \n",
    "str_1 = Strings()\n",
    "str_1.getString()\n",
    "str_1.printString()"
   ]
  },
  {
   "cell_type": "markdown",
   "metadata": {},
   "source": [
    "Classes: Task 2"
   ]
  },
  {
   "cell_type": "code",
   "execution_count": 4,
   "metadata": {},
   "outputs": [
    {
     "name": "stdout",
     "output_type": "stream",
     "text": [
      "121\n"
     ]
    }
   ],
   "source": [
    "class Shape:\n",
    "    def __init__(self):\n",
    "        pass\n",
    "    \n",
    "    def area(self):\n",
    "        return 0\n",
    "\n",
    "class Square(Shape):\n",
    "    def __init__(self, length):\n",
    "        self.length = length\n",
    "    \n",
    "    def area(self):\n",
    "        return self.length ** 2\n",
    "\n",
    "square = Square(11)\n",
    "\n",
    "print(square.area())"
   ]
  },
  {
   "cell_type": "markdown",
   "metadata": {},
   "source": [
    "Classes: Task 3"
   ]
  },
  {
   "cell_type": "code",
   "execution_count": 1,
   "metadata": {},
   "outputs": [
    {
     "name": "stdout",
     "output_type": "stream",
     "text": [
      "78\n"
     ]
    }
   ],
   "source": [
    "class Shape:\n",
    "    def __init__(self):\n",
    "        pass\n",
    "    \n",
    "    def area(self):\n",
    "        return 0\n",
    "    \n",
    "class Rectangle(Shape):\n",
    "    def __init__(self, length, width):\n",
    "        self.length = length\n",
    "        self.width = width\n",
    "    \n",
    "    def area(self):\n",
    "        return self.length * self.width\n",
    "\n",
    "rectangle = Rectangle(13, 6)\n",
    "print(rectangle.area())"
   ]
  },
  {
   "cell_type": "markdown",
   "metadata": {},
   "source": [
    "Classes: Task 4"
   ]
  },
  {
   "cell_type": "code",
   "execution_count": 6,
   "metadata": {},
   "outputs": [
    {
     "name": "stdout",
     "output_type": "stream",
     "text": [
      "Coordinates are x = 10 and y = 23\n",
      "Coordinates are x = 13 and y = 2\n",
      "Distance between two given points is 21.2\n",
      "Coordinates are x = 3 and y = -11\n",
      "Coordinates are x = -10 and y = 36\n"
     ]
    }
   ],
   "source": [
    "class Point:\n",
    "    def __init__(self, x, y):\n",
    "        self.x = x\n",
    "        self.y = y\n",
    "\n",
    "    def pointShow(self):\n",
    "        print(f\"Coordinates are x = {self.x} and y = {self.y}\")\n",
    "\n",
    "    def pointMove(self, new_x, new_y):\n",
    "        self.x = new_x\n",
    "        self.y = new_y\n",
    "    \n",
    "    def pointDist(self, second_point):\n",
    "        return (((self.x - second_point.x) ** 2) + ((self.y - second_point.y) ** 2)) ** (1 / 2)\n",
    "    \n",
    "firstPoint = Point(10, 23)\n",
    "secondPoint = Point(13, 2)\n",
    "\n",
    "firstPoint.pointShow()\n",
    "secondPoint.pointShow()\n",
    "\n",
    "print(f\"Distance between two given points is {firstPoint.pointDist(secondPoint):.1f}\")\n",
    "\n",
    "firstPoint.pointMove(3, -11)\n",
    "secondPoint.pointMove(-10, 36)\n",
    "\n",
    "firstPoint.pointShow()\n",
    "secondPoint.pointShow()"
   ]
  },
  {
   "cell_type": "markdown",
   "metadata": {},
   "source": [
    "Classes: Task 5"
   ]
  },
  {
   "cell_type": "code",
   "execution_count": 10,
   "metadata": {},
   "outputs": [
    {
     "name": "stdout",
     "output_type": "stream",
     "text": [
      "Deposited $50. New balance is $550.\n",
      "Timur Ivanov's bank account balance: $550\n",
      "\n",
      "Successfully withdrawn $370. New balance is $180.\n",
      "Timur Ivanov's bank account balance: $180\n",
      "\n",
      "Insufficient funds for withdrawal.\n",
      "Timur Ivanov's bank account balance: $180\n"
     ]
    }
   ],
   "source": [
    "class Account:\n",
    "    def __init__(self, owner, balance):\n",
    "        self.owner = owner\n",
    "        self.balance = balance\n",
    "\n",
    "    def deposit(self, amount):\n",
    "        if amount < 0:\n",
    "            print(\"The amount must be positive.\")\n",
    "        else:\n",
    "            self.balance += amount\n",
    "            print(f\"Deposited ${amount}. New balance is ${self.balance}.\")\n",
    "\n",
    "    def withdraw(self, amount):\n",
    "        if amount > self.balance:\n",
    "            print(\"Insufficient funds for withdrawal.\")\n",
    "        elif amount <= self.balance:\n",
    "            self.balance -= amount\n",
    "            print(f\"Successfully withdrawn ${amount}. New balance is ${self.balance}.\")\n",
    "        else:\n",
    "            print(\"The amount must be positive.\")\n",
    "\n",
    "    def show_account(self):\n",
    "        print(f\"{self.owner}'s bank account balance: ${self.balance}\")\n",
    "\n",
    "BankAccount = Account(\"Timur Ivanov\", 500)\n",
    "\n",
    "BankAccount.deposit(50)\n",
    "BankAccount.show_account()\n",
    "print(\"\")\n",
    "\n",
    "BankAccount.withdraw(370)\n",
    "BankAccount.show_account()\n",
    "print(\"\")\n",
    "\n",
    "BankAccount.withdraw(190)\n",
    "BankAccount.show_account()"
   ]
  },
  {
   "cell_type": "markdown",
   "metadata": {},
   "source": [
    "Classes: Task 6"
   ]
  },
  {
   "cell_type": "code",
   "execution_count": 13,
   "metadata": {},
   "outputs": [
    {
     "name": "stdout",
     "output_type": "stream",
     "text": [
      "[11, 23, 17, 5]\n"
     ]
    }
   ],
   "source": [
    "def is_prime(n):\n",
    "    if n < 2:\n",
    "        return False\n",
    "    for i in range (2, int(n ** (1 / 2)) + 1):\n",
    "        if n % i == 0:\n",
    "            return False\n",
    "    return True\n",
    "\n",
    "numbers = [11, 23, 10, 1, 15, 16, 17, 21, 5, 33]\n",
    "\n",
    "filtered_numbers = list(filter(lambda x: is_prime(x), numbers))\n",
    "print(filtered_numbers)"
   ]
  }
 ],
 "metadata": {
  "kernelspec": {
   "display_name": "Python 3",
   "language": "python",
   "name": "python3"
  },
  "language_info": {
   "codemirror_mode": {
    "name": "ipython",
    "version": 3
   },
   "file_extension": ".py",
   "mimetype": "text/x-python",
   "name": "python",
   "nbconvert_exporter": "python",
   "pygments_lexer": "ipython3",
   "version": "3.12.8"
  }
 },
 "nbformat": 4,
 "nbformat_minor": 2
}
