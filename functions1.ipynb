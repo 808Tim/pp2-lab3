{
 "cells": [
  {
   "cell_type": "markdown",
   "metadata": {},
   "source": [
    "Functions 1: Task 1"
   ]
  },
  {
   "cell_type": "code",
   "execution_count": 3,
   "metadata": {},
   "outputs": [
    {
     "name": "stdout",
     "output_type": "stream",
     "text": [
      "1417.5\n"
     ]
    }
   ],
   "source": [
    "def ounces_to_grams(ounces):\n",
    "    return 28.3495231 * ounces\n",
    "\n",
    "ounces = 50\n",
    "grams = ounces_to_grams(ounces)\n",
    "\n",
    "print(f\"{grams:.1f}\")"
   ]
  },
  {
   "cell_type": "markdown",
   "metadata": {},
   "source": [
    "Functions 1: Task 2"
   ]
  },
  {
   "cell_type": "code",
   "execution_count": 1,
   "metadata": {},
   "outputs": [
    {
     "name": "stdout",
     "output_type": "stream",
     "text": [
      "26.1\n"
     ]
    }
   ],
   "source": [
    "def fahrenheit_to_celcius(F):\n",
    "    return ((5 / 9) * (F - 32))\n",
    "\n",
    "F = 79\n",
    "C = fahrenheit_to_celcius(F)\n",
    "\n",
    "print(f\"{C:.1f}\")"
   ]
  },
  {
   "cell_type": "markdown",
   "metadata": {},
   "source": [
    "Functions 1: Task 3"
   ]
  },
  {
   "cell_type": "code",
   "execution_count": 6,
   "metadata": {},
   "outputs": [
    {
     "name": "stdout",
     "output_type": "stream",
     "text": [
      "Number of rabbits is 12\n",
      "Number of chickens is 23\n"
     ]
    }
   ],
   "source": [
    "def solve(numheads, numlegs):\n",
    "    x = (4 * numheads - numlegs) // 2 # number of chickens\n",
    "    y = numheads - x # number of rabbits\n",
    "\n",
    "    return x, y\n",
    "\n",
    "numheads = 35\n",
    "numlegs = 94\n",
    "\n",
    "chickens, rabbits = solve(numheads, numlegs)\n",
    "\n",
    "print(f\"Number of rabbits is {rabbits}\")\n",
    "print(f\"Number of chickens is {chickens}\")"
   ]
  },
  {
   "cell_type": "markdown",
   "metadata": {},
   "source": [
    "Functions 1: Task 4"
   ]
  },
  {
   "cell_type": "code",
   "execution_count": 16,
   "metadata": {},
   "outputs": [
    {
     "name": "stdout",
     "output_type": "stream",
     "text": [
      "[3, 5, 7, 17, 19]\n"
     ]
    }
   ],
   "source": [
    "def is_prime(n):\n",
    "    if n < 2:\n",
    "        return False\n",
    "    return all(n % i != 0 for i in range(2, int(n**0.5) + 1))\n",
    "\n",
    "def filter_prime(numbers):\n",
    "    return [num for num in numbers if is_prime(num)]\n",
    "\n",
    "numbers = [1, 3, 5, 7, 21, 17, 19, 15]\n",
    "print(filter_prime(numbers))\n"
   ]
  },
  {
   "cell_type": "markdown",
   "metadata": {},
   "source": [
    "Functions 1: Task 5"
   ]
  },
  {
   "cell_type": "code",
   "execution_count": 19,
   "metadata": {},
   "outputs": [
    {
     "name": "stdout",
     "output_type": "stream",
     "text": [
      "['abc', 'acb', 'bac', 'bca', 'cab', 'cba']\n"
     ]
    }
   ],
   "source": [
    "def string_perm(s, p = \"\"):\n",
    "    if not s:\n",
    "        a.append(p)\n",
    "        return\n",
    "    for i in range(len(s)):\n",
    "        string_perm(s[:i] + s[i + 1:], p + s[i])\n",
    "\n",
    "a = []\n",
    "s = input()\n",
    "string_perm(s)\n",
    "\n",
    "print(a)\n"
   ]
  },
  {
   "cell_type": "markdown",
   "metadata": {},
   "source": [
    "Functions 1: Task 6"
   ]
  },
  {
   "cell_type": "code",
   "execution_count": 35,
   "metadata": {},
   "outputs": [
    {
     "name": "stdout",
     "output_type": "stream",
     "text": [
      "re ad da\n"
     ]
    }
   ],
   "source": [
    "def str_reverse(s):\n",
    "    reversed = ' '.join(s.split()[::-1])\n",
    "    print(reversed)\n",
    "\n",
    "s = input()\n",
    "str_reverse(s)"
   ]
  },
  {
   "cell_type": "markdown",
   "metadata": {},
   "source": [
    "Functions 1: Task 7"
   ]
  },
  {
   "cell_type": "code",
   "execution_count": 15,
   "metadata": {},
   "outputs": [
    {
     "name": "stdout",
     "output_type": "stream",
     "text": [
      "True\n",
      "False\n",
      "False\n"
     ]
    }
   ],
   "source": [
    "def has_33(nums):\n",
    "    for i in range(len(nums) - 1):\n",
    "        if nums[i] == 3 and nums[i + 1] == 3:\n",
    "            return True\n",
    "    return False\n",
    "\n",
    "print(has_33([1, 3, 3]))\n",
    "print(has_33([1, 3, 1, 3]))\n",
    "print(has_33([3, 1, 3]))"
   ]
  },
  {
   "cell_type": "markdown",
   "metadata": {},
   "source": [
    "Functions 1: Task 8"
   ]
  },
  {
   "cell_type": "code",
   "execution_count": 16,
   "metadata": {},
   "outputs": [
    {
     "name": "stdout",
     "output_type": "stream",
     "text": [
      "True\n",
      "True\n",
      "False\n"
     ]
    }
   ],
   "source": [
    "def spy_game(nums):\n",
    "    seq = [0, 0, 7]\n",
    "    \n",
    "    for num in nums:\n",
    "        if num == seq[0]:\n",
    "            seq.pop(0)\n",
    "        if not seq:\n",
    "            return True\n",
    "            \n",
    "    return False\n",
    "\n",
    "print(spy_game([1, 2, 4, 0, 0, 7, 5]))\n",
    "print(spy_game([1, 0, 2, 4, 0, 5, 7]))\n",
    "print(spy_game([1, 7, 2, 0, 4, 5, 0]))\n"
   ]
  },
  {
   "cell_type": "markdown",
   "metadata": {},
   "source": [
    "Functions 1: Task 9"
   ]
  },
  {
   "cell_type": "code",
   "execution_count": 2,
   "metadata": {},
   "outputs": [
    {
     "name": "stdout",
     "output_type": "stream",
     "text": [
      "20.9\n"
     ]
    }
   ],
   "source": [
    "def sphere_volume(r):\n",
    "    V = (4 / 3) * 3.14 * r\n",
    "    print(f\"{V:.1f}\")\n",
    "\n",
    "r = float(input())\n",
    "sphere_volume(r)\n"
   ]
  },
  {
   "cell_type": "markdown",
   "metadata": {},
   "source": [
    "Functions 1: Task 10"
   ]
  },
  {
   "cell_type": "code",
   "execution_count": 21,
   "metadata": {},
   "outputs": [
    {
     "name": "stdout",
     "output_type": "stream",
     "text": [
      "[1, 2, 3, 4, 5]\n",
      "[7]\n",
      "[1, 3, 2, 5]\n"
     ]
    }
   ],
   "source": [
    "def unique_list(a):\n",
    "    unique_elements = []\n",
    "    for item in a:\n",
    "        if item not in unique_elements:\n",
    "            unique_elements.append(item)\n",
    "    return unique_elements\n",
    "\n",
    "print(unique_list([1, 2, 2, 3, 4, 4, 5]))\n",
    "print(unique_list([7, 7, 7, 7, 7]))\n",
    "print(unique_list([1, 3, 2, 3, 1, 5]))\n"
   ]
  },
  {
   "cell_type": "markdown",
   "metadata": {},
   "source": [
    "Functions 1: Task 11"
   ]
  },
  {
   "cell_type": "code",
   "execution_count": 23,
   "metadata": {},
   "outputs": [
    {
     "name": "stdout",
     "output_type": "stream",
     "text": [
      "False\n"
     ]
    }
   ],
   "source": [
    "def is_palindrome(s):\n",
    "    if s == s[::-1]:\n",
    "        return True\n",
    "    return False\n",
    "\n",
    "s = input()\n",
    "print(is_palindrome(s))"
   ]
  },
  {
   "cell_type": "markdown",
   "metadata": {},
   "source": [
    "Functions 1: Task 12"
   ]
  },
  {
   "cell_type": "code",
   "execution_count": 25,
   "metadata": {},
   "outputs": [
    {
     "name": "stdout",
     "output_type": "stream",
     "text": [
      "****\n",
      "*********\n",
      "*******\n"
     ]
    }
   ],
   "source": [
    "def histogram(a):\n",
    "    for i in range(len(a)):\n",
    "        print(a[i] * \"*\")\n",
    "\n",
    "a = [4, 9, 7]\n",
    "histogram(a)"
   ]
  },
  {
   "cell_type": "markdown",
   "metadata": {},
   "source": [
    "Functions 1: Task 13"
   ]
  },
  {
   "cell_type": "code",
   "execution_count": null,
   "metadata": {},
   "outputs": [
    {
     "name": "stdout",
     "output_type": "stream",
     "text": [
      "Well, KBTU, I am thinking of a number between 1 and 20.\n",
      "Your guess is too high.\n",
      "Your guess is too low.\n",
      "Good job, KBTU! You guessed my number in 3 guesses!\n"
     ]
    }
   ],
   "source": [
    "import random\n",
    "\n",
    "def game():\n",
    "    number = random.randint(1, 20)\n",
    "    attempts = 0\n",
    "\n",
    "    name = input(\"Hello! What is your name?\")\n",
    "    print(f\"Well, {name}, I am thinking of a number between 1 and 20.\")\n",
    "    while True:\n",
    "        guess = int(input(\"Take a guess.\"))\n",
    "        attempts += 1\n",
    "        \n",
    "        if guess < number:\n",
    "            print(\"Your guess is too low.\")\n",
    "        elif guess > number:\n",
    "            print(\"Your guess is too high.\")\n",
    "        else:\n",
    "            print(f\"Good job, {name}! You guessed my number in {attempts} guesses!\")\n",
    "            break\n",
    "\n",
    "game()"
   ]
  }
 ],
 "metadata": {
  "kernelspec": {
   "display_name": "Python 3",
   "language": "python",
   "name": "python3"
  },
  "language_info": {
   "codemirror_mode": {
    "name": "ipython",
    "version": 3
   },
   "file_extension": ".py",
   "mimetype": "text/x-python",
   "name": "python",
   "nbconvert_exporter": "python",
   "pygments_lexer": "ipython3",
   "version": "3.12.8"
  }
 },
 "nbformat": 4,
 "nbformat_minor": 2
}
